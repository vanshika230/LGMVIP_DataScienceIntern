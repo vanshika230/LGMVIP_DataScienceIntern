{
 "cells": [
  {
   "cell_type": "code",
   "execution_count": 175,
   "id": "65ec1844-510d-4e23-ac6e-382933839c72",
   "metadata": {},
   "outputs": [
    {
     "name": "stdout",
     "output_type": "stream",
     "text": [
      "Requirement already satisfied: selenium in c:\\users\\vanshika mishra\\anaconda3\\lib\\site-packages (3.141.0)\n",
      "Requirement already satisfied: urllib3 in c:\\users\\vanshika mishra\\anaconda3\\lib\\site-packages (from selenium) (1.26.4)\n"
     ]
    }
   ],
   "source": [
    "!pip install selenium #installing selenium for automation"
   ]
  },
  {
   "cell_type": "code",
   "execution_count": 176,
   "id": "37c412f7-b8d7-44e6-b4f7-e8c81bca69ab",
   "metadata": {},
   "outputs": [
    {
     "name": "stdout",
     "output_type": "stream",
     "text": [
      "Requirement already satisfied: beautifulsoup4 in c:\\users\\vanshika mishra\\anaconda3\\lib\\site-packages (4.9.3)\n",
      "Requirement already satisfied: soupsieve>1.2 in c:\\users\\vanshika mishra\\anaconda3\\lib\\site-packages (from beautifulsoup4) (2.2.1)\n"
     ]
    }
   ],
   "source": [
    "!pip install beautifulsoup4  #installing beautiful soup for scraping"
   ]
  },
  {
   "cell_type": "code",
   "execution_count": 177,
   "id": "f8053837-5994-4f9b-81b6-48511f647f05",
   "metadata": {},
   "outputs": [],
   "source": [
    "import os, random, sys, time\n",
    "from selenium import webdriver\n",
    "from bs4 import BeautifulSoup"
   ]
  },
  {
   "cell_type": "code",
   "execution_count": 178,
   "id": "7f5ee0e6-35b5-4609-aab1-47a4b759e51b",
   "metadata": {},
   "outputs": [],
   "source": [
    "browser = webdriver.Chrome('driver/chromedriver.exe') #1\n",
    "browser.get('https://www.linkedin.com/uas/login')\n",
    "\n",
    "#getting username and password from config.txt\n",
    "file = open('config.txt')\n",
    "lines = file.readlines()\n",
    "username = lines[0]\n",
    "password = lines[1]\n",
    "\n",
    "#finding elements using id and filling information in it automatically\n",
    "elementID = browser.find_element_by_id('username') #2\n",
    "elementID.send_keys(username)\n",
    "\n",
    "elementID = browser.find_element_by_id('password')\n",
    "elementID.send_keys(password)\n",
    "\n",
    "elementID.submit()"
   ]
  },
  {
   "cell_type": "code",
   "execution_count": 179,
   "id": "321dd306-224b-4bfd-95e1-2918c0f10b72",
   "metadata": {},
   "outputs": [],
   "source": [
    "link='https://www.linkedin.com/in/riva-malthiyar-363b33202/'\n",
    "browser.get(link)"
   ]
  },
  {
   "cell_type": "code",
   "execution_count": 180,
   "id": "1816886e-928a-47ae-98c0-65d017e6a4aa",
   "metadata": {},
   "outputs": [],
   "source": [
    "src=browser.page_source\n",
    "soup=BeautifulSoup(src,'lxml') #creating oython object"
   ]
  },
  {
   "cell_type": "markdown",
   "id": "84a78e71-f125-439f-9855-1cb10f538e49",
   "metadata": {},
   "source": [
    "###  Name section"
   ]
  },
  {
   "cell_type": "code",
   "execution_count": 181,
   "id": "9827305e-cda2-4718-8ad7-6bb5bacff358",
   "metadata": {},
   "outputs": [],
   "source": [
    "name_div=soup.find('div',{'class':'pv-text-details__left-panel mr5'}) #finding mentioned div"
   ]
  },
  {
   "cell_type": "code",
   "execution_count": 182,
   "id": "d4081868-9c36-4c18-aebd-78115986687d",
   "metadata": {},
   "outputs": [
    {
     "data": {
      "text/plain": [
       "<div class=\"pv-text-details__left-panel mr5\">\n",
       "<div>\n",
       "<h1 class=\"text-heading-xlarge inline t-24 v-align-middle break-words\">Riva Malthiyar</h1>\n",
       "<!-- --><!-- --><!-- --> <span class=\"distance-badge t-black--light t-14 t-black--light pv-text-details__separator text-body-small v-align-middle\">\n",
       "<span class=\"visually-hidden\">\n",
       "      1st degree connection\n",
       "  </span>\n",
       "<span aria-hidden=\"true\" class=\"dist-value\">\n",
       "    1st\n",
       "  </span>\n",
       "</span>\n",
       "</div>\n",
       "<!-- --> <div class=\"text-body-medium break-words\">\n",
       "      Cybersecurity Enthusiast | Deputy Marketing Head at MUJ ACM Student Chapter\n",
       "    </div>\n",
       "<!-- --><!-- --> <div class=\"pb2\">\n",
       "<span class=\"text-body-small inline t-black--light break-words\">\n",
       "        New Delhi, Delhi, India\n",
       "      </span>\n",
       "<span class=\"pv-text-details__separator t-black--light\">\n",
       "<a class=\"ember-view link-without-visited-state cursor-pointer text-heading-small inline-block break-words\" href=\"/in/riva-malthiyar-363b33202/detail/contact-info/\" id=\"ember47\">\n",
       "            Contact info\n",
       "          </a>\n",
       "</span>\n",
       "</div>\n",
       "</div>"
      ]
     },
     "execution_count": 182,
     "metadata": {},
     "output_type": "execute_result"
    }
   ],
   "source": [
    "name_div"
   ]
  },
  {
   "cell_type": "code",
   "execution_count": 183,
   "id": "9f223542-e64e-4b3d-91d8-a1a8f9fc8aad",
   "metadata": {},
   "outputs": [],
   "source": [
    "name=soup.find('h1',{'class':'text-heading-xlarge inline t-24 v-align-middle break-words'}) # extracting name from div"
   ]
  },
  {
   "cell_type": "code",
   "execution_count": 184,
   "id": "bc1d95eb-3cde-4681-8d20-3bd43dfab0f0",
   "metadata": {},
   "outputs": [],
   "source": [
    "name=name.text"
   ]
  },
  {
   "cell_type": "code",
   "execution_count": 185,
   "id": "21809e0d-361a-4f74-888d-1aedc7bc9ef0",
   "metadata": {},
   "outputs": [],
   "source": [
    "location=soup.find('span',{'class':'text-body-small inline t-black--light break-words'}) #extracting location"
   ]
  },
  {
   "cell_type": "code",
   "execution_count": 186,
   "id": "742fd296-d748-49aa-8a73-5a46409a54b1",
   "metadata": {},
   "outputs": [],
   "source": [
    "location=location.text.strip()"
   ]
  },
  {
   "cell_type": "code",
   "execution_count": 187,
   "id": "100497ce-b1a4-4270-9fa6-a19561a969b6",
   "metadata": {},
   "outputs": [],
   "source": [
    "profile_title=soup.find('div',{'class':'text-body-medium break-words'}) #extracting profile title"
   ]
  },
  {
   "cell_type": "code",
   "execution_count": 188,
   "id": "2c34725a-39f4-4e14-9350-ada5702f47c6",
   "metadata": {},
   "outputs": [],
   "source": [
    "profile_title=profile_title.text.strip()"
   ]
  },
  {
   "cell_type": "code",
   "execution_count": 189,
   "id": "3c559ecd-a4df-4aee-bb50-870b525a446e",
   "metadata": {},
   "outputs": [],
   "source": [
    "connections=soup.find('span',{'class':'t-bold'}) #extracting number of connections"
   ]
  },
  {
   "cell_type": "code",
   "execution_count": 190,
   "id": "39cb0544-5c53-443a-9173-71c7bd77d482",
   "metadata": {},
   "outputs": [],
   "source": [
    "connections=int(connections.text)"
   ]
  },
  {
   "cell_type": "code",
   "execution_count": 191,
   "id": "9cc2cd0a-d864-48f4-99a9-f75511f68fde",
   "metadata": {},
   "outputs": [
    {
     "data": {
      "text/plain": [
       "['https://www.linkedin.com/in/riva-malthiyar-363b33202/',\n",
       " 'Riva Malthiyar',\n",
       " 'Cybersecurity Enthusiast | Deputy Marketing Head at MUJ ACM Student Chapter',\n",
       " 'New Delhi, Delhi, India',\n",
       " 171]"
      ]
     },
     "execution_count": 191,
     "metadata": {},
     "output_type": "execute_result"
    }
   ],
   "source": [
    "info =[] #creating info list and appending new information in it\n",
    "info.append(link)\n",
    "info.append(name)\n",
    "info.append(profile_title)\n",
    "info.append(location)\n",
    "info.append(connections)\n",
    "info"
   ]
  },
  {
   "cell_type": "markdown",
   "id": "2c8cb12e-7ccc-413f-90aa-f75558ec14a6",
   "metadata": {},
   "source": [
    "### experience section"
   ]
  },
  {
   "cell_type": "code",
   "execution_count": 192,
   "id": "579893a2-b4c4-4810-a3b8-d2fbcd3ffed3",
   "metadata": {},
   "outputs": [],
   "source": [
    "exp_section=soup.find('section',{'id':'experience-section'}) # getting experience section div"
   ]
  },
  {
   "cell_type": "raw",
   "id": "0e198258-259b-4565-a886-94733618f2bc",
   "metadata": {},
   "source": [
    "li_tags=exp_section.find('div') #find only looks up to first div\n",
    "a_tags=li_tags.find('a')"
   ]
  },
  {
   "cell_type": "code",
   "execution_count": 170,
   "id": "b566ffa9-0b4b-4956-89b4-64339a13b558",
   "metadata": {},
   "outputs": [],
   "source": [
    "job_title=a_tags.find('h3').text.strip() \n",
    "company_name=a_tags.find('p',{'class':'pv-entity__secondary-title t-14 t-black t-normal'}).text.strip()\n",
    "company_name=company_name.split('\\n')[0]"
   ]
  },
  {
   "cell_type": "code",
   "execution_count": 77,
   "id": "5e13c35b-4242-4bbe-b55b-563d0396256c",
   "metadata": {},
   "outputs": [],
   "source": [
    "joining_period=a_tags.find('h4',{'class':'pv-entity__date-range t-14 t-black--light t-normal'})\n",
    "joining_period.findAll('span')[1].text"
   ]
  },
  {
   "cell_type": "code",
   "execution_count": 78,
   "id": "bc50c7b9-f6fe-4df6-854e-cb0c08349761",
   "metadata": {},
   "outputs": [],
   "source": [
    "exp_months=a_tags.find('span',{'class':'pv-entity__bullet-item-v2'})\n",
    "exp_months=exp_months.text.strip()"
   ]
  },
  {
   "cell_type": "code",
   "execution_count": 79,
   "id": "a6bc5039-06fe-4c10-82d7-19eea221297f",
   "metadata": {},
   "outputs": [
    {
     "data": {
      "text/plain": [
       "['https://www.linkedin.com/in/riva-malthiyar-363b33202/',\n",
       " 'Riva Malthiyar',\n",
       " 'Cybersecurity Enthusiast | Deputy Marketing Head at MUJ ACM Student Chapter',\n",
       " 'New Delhi, Delhi, India',\n",
       " 170,\n",
       " 'MUJ ACM Student Chapter',\n",
       " 'Deputy head of marketing',\n",
       " 'May 2021 – Present',\n",
       " '5 mos']"
      ]
     },
     "execution_count": 79,
     "metadata": {},
     "output_type": "execute_result"
    }
   ],
   "source": [
    "info.append(company_name)\n",
    "info.append(job_title)\n",
    "info.append(joining_period)\n",
    "info.append(exp_months)\n",
    "info"
   ]
  },
  {
   "cell_type": "code",
   "execution_count": 100,
   "id": "98908062-5c9b-4b55-9b1b-33da1ca000e0",
   "metadata": {},
   "outputs": [
    {
     "data": {
      "text/plain": [
       "{'Profile Link': ['https://www.linkedin.com/in/riva-malthiyar-363b33202/'],\n",
       " 'Name': ['Riva Malthiyar'],\n",
       " 'Profile Title': ['Cybersecurity Enthusiast | Deputy Marketing Head at MUJ ACM Student Chapter'],\n",
       " 'Location': ['New Delhi, Delhi, India'],\n",
       " 'No of Connections': [170],\n",
       " 'Current Job Role': ['Deputy head of marketing'],\n",
       " 'Current Company': ['MUJ ACM Student Chapter'],\n",
       " 'Joining period': ['May 2021 – Present'],\n",
       " 'Months of experience': ['5 mos']}"
      ]
     },
     "execution_count": 100,
     "metadata": {},
     "output_type": "execute_result"
    }
   ],
   "source": [
    "info_dict={\n",
    "    'Profile Link':[link],\n",
    "    'Name':[name],\n",
    "    'Profile Title':[profile_title],\n",
    "    'Location':[location],\n",
    "    'No of Connections':[connections],\n",
    "    'Current Job Role':[job_title],\n",
    "    'Current Company':[company_name],\n",
    "    'Joining period':[joining_period],\n",
    "    'Months of experience':[exp_months]  \n",
    "}\n",
    "\n",
    "info_dict"
   ]
  },
  {
   "cell_type": "code",
   "execution_count": 101,
   "id": "ea1a8aac-e046-4c3f-be92-9630893e723a",
   "metadata": {},
   "outputs": [],
   "source": [
    "import pandas as pd"
   ]
  },
  {
   "cell_type": "code",
   "execution_count": 102,
   "id": "b64e23ee-0525-4d0f-85d2-b8a594636f12",
   "metadata": {},
   "outputs": [],
   "source": [
    "info_df=pd.DataFrame(info_dict)"
   ]
  },
  {
   "cell_type": "code",
   "execution_count": 103,
   "id": "c976ccf8-80cf-4156-baa0-64c8c2481478",
   "metadata": {},
   "outputs": [
    {
     "data": {
      "text/html": [
       "<div>\n",
       "<style scoped>\n",
       "    .dataframe tbody tr th:only-of-type {\n",
       "        vertical-align: middle;\n",
       "    }\n",
       "\n",
       "    .dataframe tbody tr th {\n",
       "        vertical-align: top;\n",
       "    }\n",
       "\n",
       "    .dataframe thead th {\n",
       "        text-align: right;\n",
       "    }\n",
       "</style>\n",
       "<table border=\"1\" class=\"dataframe\">\n",
       "  <thead>\n",
       "    <tr style=\"text-align: right;\">\n",
       "      <th></th>\n",
       "      <th>Profile Link</th>\n",
       "      <th>Name</th>\n",
       "      <th>Profile Title</th>\n",
       "      <th>Location</th>\n",
       "      <th>No of Connections</th>\n",
       "      <th>Current Job Role</th>\n",
       "      <th>Current Company</th>\n",
       "      <th>Joining period</th>\n",
       "      <th>Months of experience</th>\n",
       "    </tr>\n",
       "  </thead>\n",
       "  <tbody>\n",
       "    <tr>\n",
       "      <th>0</th>\n",
       "      <td>https://www.linkedin.com/in/riva-malthiyar-363...</td>\n",
       "      <td>Riva Malthiyar</td>\n",
       "      <td>Cybersecurity Enthusiast | Deputy Marketing He...</td>\n",
       "      <td>New Delhi, Delhi, India</td>\n",
       "      <td>170</td>\n",
       "      <td>Deputy head of marketing</td>\n",
       "      <td>MUJ ACM Student Chapter</td>\n",
       "      <td>May 2021 – Present</td>\n",
       "      <td>5 mos</td>\n",
       "    </tr>\n",
       "  </tbody>\n",
       "</table>\n",
       "</div>"
      ],
      "text/plain": [
       "                                        Profile Link            Name  \\\n",
       "0  https://www.linkedin.com/in/riva-malthiyar-363...  Riva Malthiyar   \n",
       "\n",
       "                                       Profile Title                 Location  \\\n",
       "0  Cybersecurity Enthusiast | Deputy Marketing He...  New Delhi, Delhi, India   \n",
       "\n",
       "   No of Connections          Current Job Role          Current Company  \\\n",
       "0                170  Deputy head of marketing  MUJ ACM Student Chapter   \n",
       "\n",
       "       Joining period Months of experience  \n",
       "0  May 2021 – Present                5 mos  "
      ]
     },
     "execution_count": 103,
     "metadata": {},
     "output_type": "execute_result"
    }
   ],
   "source": [
    "info_df"
   ]
  }
 ],
 "metadata": {
  "kernelspec": {
   "display_name": "Python 3",
   "language": "python",
   "name": "python3"
  },
  "language_info": {
   "codemirror_mode": {
    "name": "ipython",
    "version": 3
   },
   "file_extension": ".py",
   "mimetype": "text/x-python",
   "name": "python",
   "nbconvert_exporter": "python",
   "pygments_lexer": "ipython3",
   "version": "3.8.8"
  }
 },
 "nbformat": 4,
 "nbformat_minor": 5
}
