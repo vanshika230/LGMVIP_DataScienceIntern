{
 "cells": [
  {
   "cell_type": "code",
   "execution_count": 1,
   "id": "25d906e8-e171-40a8-ae1d-93adf0c530b7",
   "metadata": {},
   "outputs": [],
   "source": [
    "import string\n",
    "from string import digits\n",
    "%matplotlib inline\n",
    "import re\n",
    "import numpy as np \n",
    "import pandas as pd\n",
    "import csv\n",
    "from tensorflow import keras\n",
    "import seaborn as sns\n",
    "from sklearn.model_selection import train_test_split\n",
    "from keras.layers import Input, LSTM, Embedding, Dense, RepeatVector\n",
    "from keras.models import Model"
   ]
  },
  {
   "cell_type": "code",
   "execution_count": 2,
   "id": "26d5c25e-7242-48c0-b3c8-a343e27ea26f",
   "metadata": {},
   "outputs": [],
   "source": [
    "data= pd.read_csv(\"Hindi_English_Truncated_Corpus.csv\",encoding='utf-8')"
   ]
  },
  {
   "cell_type": "code",
   "execution_count": 3,
   "id": "e681b7ea-0687-4949-a75d-9af67a17df43",
   "metadata": {},
   "outputs": [
    {
     "data": {
      "text/html": [
       "<div>\n",
       "<style scoped>\n",
       "    .dataframe tbody tr th:only-of-type {\n",
       "        vertical-align: middle;\n",
       "    }\n",
       "\n",
       "    .dataframe tbody tr th {\n",
       "        vertical-align: top;\n",
       "    }\n",
       "\n",
       "    .dataframe thead th {\n",
       "        text-align: right;\n",
       "    }\n",
       "</style>\n",
       "<table border=\"1\" class=\"dataframe\">\n",
       "  <thead>\n",
       "    <tr style=\"text-align: right;\">\n",
       "      <th></th>\n",
       "      <th>source</th>\n",
       "      <th>english_sentence</th>\n",
       "      <th>hindi_sentence</th>\n",
       "    </tr>\n",
       "  </thead>\n",
       "  <tbody>\n",
       "    <tr>\n",
       "      <th>0</th>\n",
       "      <td>ted</td>\n",
       "      <td>politicians do not have permission to do what ...</td>\n",
       "      <td>राजनीतिज्ञों के पास जो कार्य करना चाहिए, वह कर...</td>\n",
       "    </tr>\n",
       "    <tr>\n",
       "      <th>1</th>\n",
       "      <td>ted</td>\n",
       "      <td>I'd like to tell you about one such child,</td>\n",
       "      <td>मई आपको ऐसे ही एक बच्चे के बारे में बताना चाहू...</td>\n",
       "    </tr>\n",
       "    <tr>\n",
       "      <th>2</th>\n",
       "      <td>indic2012</td>\n",
       "      <td>This percentage is even greater than the perce...</td>\n",
       "      <td>यह प्रतिशत भारत में हिन्दुओं प्रतिशत से अधिक है।</td>\n",
       "    </tr>\n",
       "    <tr>\n",
       "      <th>3</th>\n",
       "      <td>ted</td>\n",
       "      <td>what we really mean is that they're bad at not...</td>\n",
       "      <td>हम ये नहीं कहना चाहते कि वो ध्यान नहीं दे पाते</td>\n",
       "    </tr>\n",
       "    <tr>\n",
       "      <th>4</th>\n",
       "      <td>indic2012</td>\n",
       "      <td>.The ending portion of these Vedas is called U...</td>\n",
       "      <td>इन्हीं वेदों का अंतिम भाग उपनिषद कहलाता है।</td>\n",
       "    </tr>\n",
       "  </tbody>\n",
       "</table>\n",
       "</div>"
      ],
      "text/plain": [
       "      source                                   english_sentence  \\\n",
       "0        ted  politicians do not have permission to do what ...   \n",
       "1        ted         I'd like to tell you about one such child,   \n",
       "2  indic2012  This percentage is even greater than the perce...   \n",
       "3        ted  what we really mean is that they're bad at not...   \n",
       "4  indic2012  .The ending portion of these Vedas is called U...   \n",
       "\n",
       "                                      hindi_sentence  \n",
       "0  राजनीतिज्ञों के पास जो कार्य करना चाहिए, वह कर...  \n",
       "1  मई आपको ऐसे ही एक बच्चे के बारे में बताना चाहू...  \n",
       "2   यह प्रतिशत भारत में हिन्दुओं प्रतिशत से अधिक है।  \n",
       "3     हम ये नहीं कहना चाहते कि वो ध्यान नहीं दे पाते  \n",
       "4        इन्हीं वेदों का अंतिम भाग उपनिषद कहलाता है।  "
      ]
     },
     "execution_count": 3,
     "metadata": {},
     "output_type": "execute_result"
    }
   ],
   "source": [
    "data.head()"
   ]
  },
  {
   "cell_type": "code",
   "execution_count": 4,
   "id": "629c8e0d-ca7b-445b-8858-d7b6c2f30388",
   "metadata": {},
   "outputs": [
    {
     "data": {
      "text/plain": [
       "tides        50000\n",
       "ted          39881\n",
       "indic2012    37726\n",
       "Name: source, dtype: int64"
      ]
     },
     "execution_count": 4,
     "metadata": {},
     "output_type": "execute_result"
    }
   ],
   "source": [
    "data['source'].value_counts()"
   ]
  },
  {
   "cell_type": "code",
   "execution_count": 5,
   "id": "414b196a-e9fd-42b7-910b-35c55d99b14e",
   "metadata": {},
   "outputs": [
    {
     "data": {
      "text/html": [
       "<div>\n",
       "<style scoped>\n",
       "    .dataframe tbody tr th:only-of-type {\n",
       "        vertical-align: middle;\n",
       "    }\n",
       "\n",
       "    .dataframe tbody tr th {\n",
       "        vertical-align: top;\n",
       "    }\n",
       "\n",
       "    .dataframe thead th {\n",
       "        text-align: right;\n",
       "    }\n",
       "</style>\n",
       "<table border=\"1\" class=\"dataframe\">\n",
       "  <thead>\n",
       "    <tr style=\"text-align: right;\">\n",
       "      <th></th>\n",
       "      <th>source</th>\n",
       "      <th>english_sentence</th>\n",
       "      <th>hindi_sentence</th>\n",
       "    </tr>\n",
       "  </thead>\n",
       "  <tbody>\n",
       "    <tr>\n",
       "      <th>5</th>\n",
       "      <td>tides</td>\n",
       "      <td>The then Governor of Kashmir resisted transfer...</td>\n",
       "      <td>कश्मीर के तत्कालीन गवर्नर ने इस हस्तांतरण का व...</td>\n",
       "    </tr>\n",
       "    <tr>\n",
       "      <th>9</th>\n",
       "      <td>tides</td>\n",
       "      <td>You may want your child to go to a school that...</td>\n",
       "      <td>हो सकता है कि आप चाहते हों कि आप का नऋर्नमेनटे...</td>\n",
       "    </tr>\n",
       "    <tr>\n",
       "      <th>10</th>\n",
       "      <td>tides</td>\n",
       "      <td>Please ensure that you use the appropriate form .</td>\n",
       "      <td>कृपया यह सुनिश्चित कर लें कि आप सही फॉर्म का प...</td>\n",
       "    </tr>\n",
       "    <tr>\n",
       "      <th>14</th>\n",
       "      <td>tides</td>\n",
       "      <td>The first two were found unreliable and the pr...</td>\n",
       "      <td>पहले दो को अविश्वसनीय मानकर बाकी पांच मुखबिरों...</td>\n",
       "    </tr>\n",
       "    <tr>\n",
       "      <th>15</th>\n",
       "      <td>tides</td>\n",
       "      <td>They had justified their educational policy of...</td>\n",
       "      <td>कम संख़्या वाले उच्च एवं मध्यम श्रेणी के लोगों...</td>\n",
       "    </tr>\n",
       "  </tbody>\n",
       "</table>\n",
       "</div>"
      ],
      "text/plain": [
       "   source                                   english_sentence  \\\n",
       "5   tides  The then Governor of Kashmir resisted transfer...   \n",
       "9   tides  You may want your child to go to a school that...   \n",
       "10  tides  Please ensure that you use the appropriate form .   \n",
       "14  tides  The first two were found unreliable and the pr...   \n",
       "15  tides  They had justified their educational policy of...   \n",
       "\n",
       "                                       hindi_sentence  \n",
       "5   कश्मीर के तत्कालीन गवर्नर ने इस हस्तांतरण का व...  \n",
       "9   हो सकता है कि आप चाहते हों कि आप का नऋर्नमेनटे...  \n",
       "10  कृपया यह सुनिश्चित कर लें कि आप सही फॉर्म का प...  \n",
       "14  पहले दो को अविश्वसनीय मानकर बाकी पांच मुखबिरों...  \n",
       "15  कम संख़्या वाले उच्च एवं मध्यम श्रेणी के लोगों...  "
      ]
     },
     "execution_count": 5,
     "metadata": {},
     "output_type": "execute_result"
    }
   ],
   "source": [
    "data=data[data['source']=='tides'] #limiting to one resource\n",
    "data.head()"
   ]
  },
  {
   "cell_type": "code",
   "execution_count": 6,
   "id": "a2772f31-8015-495f-afc5-e3b2f18a5a48",
   "metadata": {},
   "outputs": [
    {
     "data": {
      "text/html": [
       "<div>\n",
       "<style scoped>\n",
       "    .dataframe tbody tr th:only-of-type {\n",
       "        vertical-align: middle;\n",
       "    }\n",
       "\n",
       "    .dataframe tbody tr th {\n",
       "        vertical-align: top;\n",
       "    }\n",
       "\n",
       "    .dataframe thead th {\n",
       "        text-align: right;\n",
       "    }\n",
       "</style>\n",
       "<table border=\"1\" class=\"dataframe\">\n",
       "  <thead>\n",
       "    <tr style=\"text-align: right;\">\n",
       "      <th></th>\n",
       "      <th>english_sentence</th>\n",
       "      <th>hindi_sentence</th>\n",
       "    </tr>\n",
       "  </thead>\n",
       "  <tbody>\n",
       "    <tr>\n",
       "      <th>5</th>\n",
       "      <td>The then Governor of Kashmir resisted transfer...</td>\n",
       "      <td>कश्मीर के तत्कालीन गवर्नर ने इस हस्तांतरण का व...</td>\n",
       "    </tr>\n",
       "    <tr>\n",
       "      <th>9</th>\n",
       "      <td>You may want your child to go to a school that...</td>\n",
       "      <td>हो सकता है कि आप चाहते हों कि आप का नऋर्नमेनटे...</td>\n",
       "    </tr>\n",
       "    <tr>\n",
       "      <th>10</th>\n",
       "      <td>Please ensure that you use the appropriate form .</td>\n",
       "      <td>कृपया यह सुनिश्चित कर लें कि आप सही फॉर्म का प...</td>\n",
       "    </tr>\n",
       "    <tr>\n",
       "      <th>14</th>\n",
       "      <td>The first two were found unreliable and the pr...</td>\n",
       "      <td>पहले दो को अविश्वसनीय मानकर बाकी पांच मुखबिरों...</td>\n",
       "    </tr>\n",
       "    <tr>\n",
       "      <th>15</th>\n",
       "      <td>They had justified their educational policy of...</td>\n",
       "      <td>कम संख़्या वाले उच्च एवं मध्यम श्रेणी के लोगों...</td>\n",
       "    </tr>\n",
       "  </tbody>\n",
       "</table>\n",
       "</div>"
      ],
      "text/plain": [
       "                                     english_sentence  \\\n",
       "5   The then Governor of Kashmir resisted transfer...   \n",
       "9   You may want your child to go to a school that...   \n",
       "10  Please ensure that you use the appropriate form .   \n",
       "14  The first two were found unreliable and the pr...   \n",
       "15  They had justified their educational policy of...   \n",
       "\n",
       "                                       hindi_sentence  \n",
       "5   कश्मीर के तत्कालीन गवर्नर ने इस हस्तांतरण का व...  \n",
       "9   हो सकता है कि आप चाहते हों कि आप का नऋर्नमेनटे...  \n",
       "10  कृपया यह सुनिश्चित कर लें कि आप सही फॉर्म का प...  \n",
       "14  पहले दो को अविश्वसनीय मानकर बाकी पांच मुखबिरों...  \n",
       "15  कम संख़्या वाले उच्च एवं मध्यम श्रेणी के लोगों...  "
      ]
     },
     "execution_count": 6,
     "metadata": {},
     "output_type": "execute_result"
    }
   ],
   "source": [
    "data.drop('source',axis=1,inplace=True) \n",
    "data.head()"
   ]
  },
  {
   "cell_type": "code",
   "execution_count": 7,
   "id": "57f53f4d-ceab-4658-83b8-01203d87b38e",
   "metadata": {},
   "outputs": [],
   "source": [
    "data= data.dropna(axis=1)# dropping null values"
   ]
  },
  {
   "cell_type": "code",
   "execution_count": 8,
   "id": "9f5ad881-c897-470b-8f9a-6fb585001211",
   "metadata": {},
   "outputs": [],
   "source": [
    "data.drop_duplicates(inplace=True) #dropping duplicates"
   ]
  },
  {
   "cell_type": "code",
   "execution_count": 9,
   "id": "4144d8b6-61b9-46ea-85e6-597eb39bcf46",
   "metadata": {},
   "outputs": [
    {
     "data": {
      "text/html": [
       "<div>\n",
       "<style scoped>\n",
       "    .dataframe tbody tr th:only-of-type {\n",
       "        vertical-align: middle;\n",
       "    }\n",
       "\n",
       "    .dataframe tbody tr th {\n",
       "        vertical-align: top;\n",
       "    }\n",
       "\n",
       "    .dataframe thead th {\n",
       "        text-align: right;\n",
       "    }\n",
       "</style>\n",
       "<table border=\"1\" class=\"dataframe\">\n",
       "  <thead>\n",
       "    <tr style=\"text-align: right;\">\n",
       "      <th></th>\n",
       "      <th>english_sentence</th>\n",
       "      <th>hindi_sentence</th>\n",
       "    </tr>\n",
       "  </thead>\n",
       "  <tbody>\n",
       "    <tr>\n",
       "      <th>5</th>\n",
       "      <td>the then governor of kashmir resisted transfer...</td>\n",
       "      <td>कश्मीर के तत्कालीन गवर्नर ने इस हस्तांतरण का व...</td>\n",
       "    </tr>\n",
       "    <tr>\n",
       "      <th>9</th>\n",
       "      <td>you may want your child to go to a school that...</td>\n",
       "      <td>हो सकता है कि आप चाहते हों कि आप का नऋर्नमेनटे...</td>\n",
       "    </tr>\n",
       "    <tr>\n",
       "      <th>10</th>\n",
       "      <td>please ensure that you use the appropriate form .</td>\n",
       "      <td>कृपया यह सुनिश्चित कर लें कि आप सही फॉर्म का प...</td>\n",
       "    </tr>\n",
       "    <tr>\n",
       "      <th>14</th>\n",
       "      <td>the first two were found unreliable and the pr...</td>\n",
       "      <td>पहले दो को अविश्वसनीय मानकर बाकी पांच मुखबिरों...</td>\n",
       "    </tr>\n",
       "    <tr>\n",
       "      <th>15</th>\n",
       "      <td>they had justified their educational policy of...</td>\n",
       "      <td>कम संख़्या वाले उच्च एवं मध्यम श्रेणी के लोगों...</td>\n",
       "    </tr>\n",
       "  </tbody>\n",
       "</table>\n",
       "</div>"
      ],
      "text/plain": [
       "                                     english_sentence  \\\n",
       "5   the then governor of kashmir resisted transfer...   \n",
       "9   you may want your child to go to a school that...   \n",
       "10  please ensure that you use the appropriate form .   \n",
       "14  the first two were found unreliable and the pr...   \n",
       "15  they had justified their educational policy of...   \n",
       "\n",
       "                                       hindi_sentence  \n",
       "5   कश्मीर के तत्कालीन गवर्नर ने इस हस्तांतरण का व...  \n",
       "9   हो सकता है कि आप चाहते हों कि आप का नऋर्नमेनटे...  \n",
       "10  कृपया यह सुनिश्चित कर लें कि आप सही फॉर्म का प...  \n",
       "14  पहले दो को अविश्वसनीय मानकर बाकी पांच मुखबिरों...  \n",
       "15  कम संख़्या वाले उच्च एवं मध्यम श्रेणी के लोगों...  "
      ]
     },
     "execution_count": 9,
     "metadata": {},
     "output_type": "execute_result"
    }
   ],
   "source": [
    "data['english_sentence']= data['english_sentence'].str.lower() # converting to lower case for uniformity, no need to do this for Hindi\n",
    "data.head()"
   ]
  },
  {
   "cell_type": "code",
   "execution_count": 10,
   "id": "6b5aaec1-ae3a-4e48-8b7c-c2aba079ad91",
   "metadata": {},
   "outputs": [
    {
     "name": "stderr",
     "output_type": "stream",
     "text": [
      "<ipython-input-10-87150b51f361>:1: FutureWarning: The default value of regex will change from True to False in a future version.\n",
      "  data['english_sentence']=data['english_sentence'].str.replace('[^A-Za-z\\s]+','') #Regex expression\n"
     ]
    }
   ],
   "source": [
    "data['english_sentence']=data['english_sentence'].str.replace('[^A-Za-z\\s]+','') #Regex expression"
   ]
  },
  {
   "cell_type": "code",
   "execution_count": 11,
   "id": "35fa46fc-b1e3-454d-b2da-30708946417d",
   "metadata": {},
   "outputs": [
    {
     "data": {
      "text/html": [
       "<div>\n",
       "<style scoped>\n",
       "    .dataframe tbody tr th:only-of-type {\n",
       "        vertical-align: middle;\n",
       "    }\n",
       "\n",
       "    .dataframe tbody tr th {\n",
       "        vertical-align: top;\n",
       "    }\n",
       "\n",
       "    .dataframe thead th {\n",
       "        text-align: right;\n",
       "    }\n",
       "</style>\n",
       "<table border=\"1\" class=\"dataframe\">\n",
       "  <thead>\n",
       "    <tr style=\"text-align: right;\">\n",
       "      <th></th>\n",
       "      <th>english_sentence</th>\n",
       "      <th>hindi_sentence</th>\n",
       "      <th>english_count</th>\n",
       "      <th>hindi_count</th>\n",
       "    </tr>\n",
       "  </thead>\n",
       "  <tbody>\n",
       "    <tr>\n",
       "      <th>5</th>\n",
       "      <td>the then governor of kashmir resisted transfer...</td>\n",
       "      <td>कश्मीर के तत्कालीन गवर्नर ने इस हस्तांतरण का व...</td>\n",
       "      <td>110</td>\n",
       "      <td>112</td>\n",
       "    </tr>\n",
       "    <tr>\n",
       "      <th>9</th>\n",
       "      <td>you may want your child to go to a school that...</td>\n",
       "      <td>हो सकता है कि आप चाहते हों कि आप का नऋर्नमेनटे...</td>\n",
       "      <td>159</td>\n",
       "      <td>192</td>\n",
       "    </tr>\n",
       "    <tr>\n",
       "      <th>10</th>\n",
       "      <td>please ensure that you use the appropriate form</td>\n",
       "      <td>कृपया यह सुनिश्चित कर लें कि आप सही फॉर्म का प...</td>\n",
       "      <td>48</td>\n",
       "      <td>65</td>\n",
       "    </tr>\n",
       "    <tr>\n",
       "      <th>14</th>\n",
       "      <td>the first two were found unreliable and the pr...</td>\n",
       "      <td>पहले दो को अविश्वसनीय मानकर बाकी पांच मुखबिरों...</td>\n",
       "      <td>123</td>\n",
       "      <td>76</td>\n",
       "    </tr>\n",
       "    <tr>\n",
       "      <th>15</th>\n",
       "      <td>they had justified their educational policy of...</td>\n",
       "      <td>कम संख़्या वाले उच्च एवं मध्यम श्रेणी के लोगों...</td>\n",
       "      <td>210</td>\n",
       "      <td>179</td>\n",
       "    </tr>\n",
       "  </tbody>\n",
       "</table>\n",
       "</div>"
      ],
      "text/plain": [
       "                                     english_sentence  \\\n",
       "5   the then governor of kashmir resisted transfer...   \n",
       "9   you may want your child to go to a school that...   \n",
       "10   please ensure that you use the appropriate form    \n",
       "14  the first two were found unreliable and the pr...   \n",
       "15  they had justified their educational policy of...   \n",
       "\n",
       "                                       hindi_sentence  english_count  \\\n",
       "5   कश्मीर के तत्कालीन गवर्नर ने इस हस्तांतरण का व...            110   \n",
       "9   हो सकता है कि आप चाहते हों कि आप का नऋर्नमेनटे...            159   \n",
       "10  कृपया यह सुनिश्चित कर लें कि आप सही फॉर्म का प...             48   \n",
       "14  पहले दो को अविश्वसनीय मानकर बाकी पांच मुखबिरों...            123   \n",
       "15  कम संख़्या वाले उच्च एवं मध्यम श्रेणी के लोगों...            210   \n",
       "\n",
       "    hindi_count  \n",
       "5           112  \n",
       "9           192  \n",
       "10           65  \n",
       "14           76  \n",
       "15          179  "
      ]
     },
     "execution_count": 11,
     "metadata": {},
     "output_type": "execute_result"
    }
   ],
   "source": [
    "data['english_count']= data['english_sentence'].str.len() #words in a single sentence\n",
    "data['hindi_count']= data['hindi_sentence'].str.len() \n",
    "data.head()"
   ]
  },
  {
   "cell_type": "code",
   "execution_count": 12,
   "id": "176bffe4-66c2-4378-b999-ab4291275de0",
   "metadata": {},
   "outputs": [
    {
     "data": {
      "text/html": [
       "<div>\n",
       "<style scoped>\n",
       "    .dataframe tbody tr th:only-of-type {\n",
       "        vertical-align: middle;\n",
       "    }\n",
       "\n",
       "    .dataframe tbody tr th {\n",
       "        vertical-align: top;\n",
       "    }\n",
       "\n",
       "    .dataframe thead th {\n",
       "        text-align: right;\n",
       "    }\n",
       "</style>\n",
       "<table border=\"1\" class=\"dataframe\">\n",
       "  <thead>\n",
       "    <tr style=\"text-align: right;\">\n",
       "      <th></th>\n",
       "      <th>english_sentence</th>\n",
       "      <th>hindi_sentence</th>\n",
       "      <th>english_count</th>\n",
       "      <th>hindi_count</th>\n",
       "    </tr>\n",
       "  </thead>\n",
       "  <tbody>\n",
       "    <tr>\n",
       "      <th>10</th>\n",
       "      <td>please ensure that you use the appropriate form</td>\n",
       "      <td>कृपया यह सुनिश्चित कर लें कि आप सही फॉर्म का प...</td>\n",
       "      <td>48</td>\n",
       "      <td>65</td>\n",
       "    </tr>\n",
       "    <tr>\n",
       "      <th>20</th>\n",
       "      <td>of these lahadi is a popular one</td>\n",
       "      <td>' लाडड़ी लोकप्रिय स्त्री नृत्य है .</td>\n",
       "      <td>33</td>\n",
       "      <td>35</td>\n",
       "    </tr>\n",
       "    <tr>\n",
       "      <th>21</th>\n",
       "      <td>even a concentration of  ppm of hydrogen sulph...</td>\n",
       "      <td>यहां तक कि पानी में हाइड्रोजन सल्फाइड की 0.001...</td>\n",
       "      <td>96</td>\n",
       "      <td>99</td>\n",
       "    </tr>\n",
       "    <tr>\n",
       "      <th>28</th>\n",
       "      <td>all those who stand today under this flag are ...</td>\n",
       "      <td>जो भी इस झंडे के नीचे खड़ा है वह न हिंदू है , ...</td>\n",
       "      <td>92</td>\n",
       "      <td>83</td>\n",
       "    </tr>\n",
       "    <tr>\n",
       "      <th>36</th>\n",
       "      <td>head lice need to maintain contact with a host...</td>\n",
       "      <td>जिंदा रहने के लिए जूँ किसी जीव के सम्पर्क में ...</td>\n",
       "      <td>67</td>\n",
       "      <td>60</td>\n",
       "    </tr>\n",
       "  </tbody>\n",
       "</table>\n",
       "</div>"
      ],
      "text/plain": [
       "                                     english_sentence  \\\n",
       "10   please ensure that you use the appropriate form    \n",
       "20                  of these lahadi is a popular one    \n",
       "21  even a concentration of  ppm of hydrogen sulph...   \n",
       "28  all those who stand today under this flag are ...   \n",
       "36  head lice need to maintain contact with a host...   \n",
       "\n",
       "                                       hindi_sentence  english_count  \\\n",
       "10  कृपया यह सुनिश्चित कर लें कि आप सही फॉर्म का प...             48   \n",
       "20                ' लाडड़ी लोकप्रिय स्त्री नृत्य है .             33   \n",
       "21  यहां तक कि पानी में हाइड्रोजन सल्फाइड की 0.001...             96   \n",
       "28  जो भी इस झंडे के नीचे खड़ा है वह न हिंदू है , ...             92   \n",
       "36  जिंदा रहने के लिए जूँ किसी जीव के सम्पर्क में ...             67   \n",
       "\n",
       "    hindi_count  \n",
       "10           65  \n",
       "20           35  \n",
       "21           99  \n",
       "28           83  \n",
       "36           60  "
      ]
     },
     "execution_count": 12,
     "metadata": {},
     "output_type": "execute_result"
    }
   ],
   "source": [
    "data=data[data['english_count']<=100] # both english and hindi count should be less than 100 to maintain uniformity in data\n",
    "data=data[data['hindi_count']<=100]\n",
    "data.head()"
   ]
  },
  {
   "cell_type": "code",
   "execution_count": 13,
   "id": "83396d4a-95d3-4c16-99c4-288d3104504c",
   "metadata": {},
   "outputs": [
    {
     "data": {
      "text/plain": [
       "(18675, 4)"
      ]
     },
     "execution_count": 13,
     "metadata": {},
     "output_type": "execute_result"
    }
   ],
   "source": [
    "data.shape"
   ]
  },
  {
   "cell_type": "code",
   "execution_count": 14,
   "id": "519de7d2-86db-4ff9-a5ba-95b9e01568cb",
   "metadata": {},
   "outputs": [
    {
     "data": {
      "text/plain": [
       "100"
      ]
     },
     "execution_count": 14,
     "metadata": {},
     "output_type": "execute_result"
    }
   ],
   "source": [
    "max_len_seq_eng=max(data['english_count'])\n",
    "max_len_seq_hindi= max(data['hindi_count'])\n",
    "max_len_seq_hindi"
   ]
  },
  {
   "cell_type": "code",
   "execution_count": 15,
   "id": "ef90a5e6-7fc4-452a-8e3e-4aa783dba502",
   "metadata": {},
   "outputs": [],
   "source": [
    "#maintaining a list of all unique english words\n",
    "english_words=[]\n",
    "for sent in data['english_sentence']:\n",
    "    for word in sent.split():\n",
    "        if word not in english_words:\n",
    "            english_words.append(word)"
   ]
  },
  {
   "cell_type": "code",
   "execution_count": 16,
   "id": "8ce78efe-05fd-456f-850d-52c7ce74e065",
   "metadata": {},
   "outputs": [
    {
     "data": {
      "text/plain": [
       "['please',\n",
       " 'ensure',\n",
       " 'that',\n",
       " 'you',\n",
       " 'use',\n",
       " 'the',\n",
       " 'appropriate',\n",
       " 'form',\n",
       " 'of',\n",
       " 'these',\n",
       " 'lahadi',\n",
       " 'is',\n",
       " 'a',\n",
       " 'popular',\n",
       " 'one',\n",
       " 'even',\n",
       " 'concentration',\n",
       " 'ppm',\n",
       " 'hydrogen',\n",
       " 'sulphide',\n",
       " 'in',\n",
       " 'water',\n",
       " 'can',\n",
       " 'emit',\n",
       " 'smell']"
      ]
     },
     "execution_count": 16,
     "metadata": {},
     "output_type": "execute_result"
    }
   ],
   "source": [
    "english_words[:25]"
   ]
  },
  {
   "cell_type": "code",
   "execution_count": 17,
   "id": "543dbaa4-08a2-4f90-8666-82913ba004d8",
   "metadata": {},
   "outputs": [],
   "source": [
    "#maintaining a list of all unique hindi words\n",
    "hindi_words=[]\n",
    "for sent in data['hindi_sentence']:\n",
    "    for word in sent.split():\n",
    "        if word not in hindi_words:\n",
    "            hindi_words.append(word)"
   ]
  },
  {
   "cell_type": "code",
   "execution_count": 18,
   "id": "000d2a74-17c0-4b25-ad04-75c4cec05760",
   "metadata": {},
   "outputs": [
    {
     "data": {
      "text/plain": [
       "['कृपया',\n",
       " 'यह',\n",
       " 'सुनिश्चित',\n",
       " 'कर',\n",
       " 'लें',\n",
       " 'कि',\n",
       " 'आप',\n",
       " 'सही',\n",
       " 'फॉर्म',\n",
       " 'का',\n",
       " 'प्रयोग',\n",
       " 'रहें',\n",
       " 'हैं',\n",
       " '.',\n",
       " \"'\",\n",
       " 'लाडड़ी',\n",
       " 'लोकप्रिय',\n",
       " 'स्त्री',\n",
       " 'नृत्य',\n",
       " 'है',\n",
       " 'यहां',\n",
       " 'तक',\n",
       " 'पानी',\n",
       " 'में',\n",
       " 'हाइड्रोजन']"
      ]
     },
     "execution_count": 18,
     "metadata": {},
     "output_type": "execute_result"
    }
   ],
   "source": [
    "hindi_words[:25]"
   ]
  },
  {
   "cell_type": "code",
   "execution_count": 19,
   "id": "9c5b0663-21c9-486d-9307-b478b4eb5d0c",
   "metadata": {},
   "outputs": [
    {
     "data": {
      "text/plain": [
       "18932"
      ]
     },
     "execution_count": 19,
     "metadata": {},
     "output_type": "execute_result"
    }
   ],
   "source": [
    "n_u_eng_words= len(english_words)\n",
    "n_u_hindi_words=len(hindi_words)\n",
    "n_u_eng_words"
   ]
  },
  {
   "cell_type": "code",
   "execution_count": 20,
   "id": "5f7227f5-6eb0-46dc-a1cb-3ae5a62ec5fa",
   "metadata": {},
   "outputs": [],
   "source": [
    "from keras.preprocessing.text import text_to_word_sequence, Tokenizer\n",
    "from keras.preprocessing.sequence import pad_sequences"
   ]
  },
  {
   "cell_type": "code",
   "execution_count": 21,
   "id": "ecc2e0a7-66fe-420e-930d-044be14ba4e0",
   "metadata": {},
   "outputs": [
    {
     "data": {
      "text/plain": [
       "['please ensure that you use the appropriate form ',\n",
       " 'of these lahadi is a popular one ',\n",
       " 'even a concentration of  ppm of hydrogen sulphide in the water can emit the smell of rotten egg ',\n",
       " 'all those who stand today under this flag are indians  not hindus  not muslims  but indians ',\n",
       " 'head lice need to maintain contact with a host in order to survive ']"
      ]
     },
     "execution_count": 21,
     "metadata": {},
     "output_type": "execute_result"
    }
   ],
   "source": [
    "english_sent=[]\n",
    "for sent in data['english_sentence']:\n",
    "    english_sent.append(sent)\n",
    "english_sent[:5]"
   ]
  },
  {
   "cell_type": "code",
   "execution_count": 22,
   "id": "82e29d59-d521-49db-a45e-67547944aec4",
   "metadata": {},
   "outputs": [
    {
     "data": {
      "text/plain": [
       "['कृपया यह सुनिश्चित कर लें कि आप सही फॉर्म का प्रयोग कर रहें हैं .',\n",
       " \"' लाडड़ी लोकप्रिय स्त्री नृत्य है .\",\n",
       " 'यहां तक कि पानी में हाइड्रोजन सल्फाइड की 0.001 पी पी एम मात्रा से भी सड़े हुए अंडे की बदबू आती है .',\n",
       " 'जो भी इस झंडे के नीचे खड़ा है वह न हिंदू है , न मुसलमान , बल्कि वह हिंदुस्तानी है .',\n",
       " 'जिंदा रहने के लिए जूँ किसी जीव के सम्पर्क में रहना आवश्यक है']"
      ]
     },
     "execution_count": 22,
     "metadata": {},
     "output_type": "execute_result"
    }
   ],
   "source": [
    "hindi_sent=[]\n",
    "for sent in data['hindi_sentence']:\n",
    "    hindi_sent.append(sent)\n",
    "hindi_sent[:5]"
   ]
  },
  {
   "cell_type": "code",
   "execution_count": 23,
   "id": "83e7794a-5b03-44d2-858b-846fb56de199",
   "metadata": {},
   "outputs": [],
   "source": [
    "# making tokenizer objects\n",
    "tokenizer1= Tokenizer(lower=True, split=\" \")\n",
    "tokenizer2= Tokenizer(lower=True, split=\" \")\n",
    "tokenizer1.fit_on_texts(english_sent)\n",
    "tokenizer2.fit_on_texts(hindi_sent)"
   ]
  },
  {
   "cell_type": "code",
   "execution_count": 24,
   "id": "afb9c757-8b4a-4bde-a460-66591d39982f",
   "metadata": {},
   "outputs": [],
   "source": [
    "word_index_hindi= tokenizer2.word_index"
   ]
  },
  {
   "cell_type": "code",
   "execution_count": 25,
   "id": "4e39275c-cc22-499a-81fa-a3f7db59dc81",
   "metadata": {},
   "outputs": [],
   "source": [
    "#making sequences \n",
    "eng_vector=tokenizer1.texts_to_sequences(english_sent)\n",
    "hindi_vector=tokenizer2.texts_to_sequences(hindi_sent)"
   ]
  },
  {
   "cell_type": "code",
   "execution_count": 26,
   "id": "7fd3cb1b-1269-4761-aea4-bc3872139b7e",
   "metadata": {},
   "outputs": [],
   "source": [
    "#padding \n",
    "eng_vect_seq= pad_sequences(eng_vector,maxlen=100,padding='post')\n",
    "hindi_vect_seq= pad_sequences(hindi_vector, maxlen=100, padding='post')"
   ]
  },
  {
   "cell_type": "code",
   "execution_count": 27,
   "id": "6fd8443e-113a-4fde-9cba-ea2654e0c208",
   "metadata": {},
   "outputs": [],
   "source": [
    "# define Training and testing data set\n",
    "x= eng_vect_seq\n",
    "y= hindi_vect_seq\n",
    "x_train,x_test,y_train,y_test= train_test_split(x,y,test_size=0.01, random_state=42)"
   ]
  },
  {
   "cell_type": "markdown",
   "id": "7e6ed9b3-e09d-4f2d-a708-5a6c268b3d81",
   "metadata": {},
   "source": [
    "# Defining model \n",
    "\n",
    "from keras.models import Sequential \n",
    "model= Sequential()\n",
    "model.add(Embedding(n_u_eng_words+1,110,input_length=100,mask_zero=True))\n",
    "model.add(LSTM(110))\n",
    "model.add(RepeatVector(100))\n",
    "model.add(LSTM(110,return_sequences=True))\n",
    "model.add(Dense(n_u_hindi_words,activation='softmax'))\n",
    "\n",
    "rms= keras.optimizers.RMSprop(learning_rate=0.0001)\n",
    "model.compile(optimizer=rms,loss='sparse_categorical_crossentropy')\n"
   ]
  },
  {
   "cell_type": "markdown",
   "id": "e006ebcc-807e-4374-98b8-f4030c25dfcd",
   "metadata": {},
   "source": [
    "model.summary()"
   ]
  },
  {
   "cell_type": "markdown",
   "id": "00d92adf-ab87-49c7-bfe6-0739e9f07e64",
   "metadata": {},
   "source": [
    "x_train=np.array(x_train)\n",
    "y_train=np.array(y_train)"
   ]
  },
  {
   "cell_type": "markdown",
   "id": "5cf535e5-d465-441e-9c97-1a06a9fdc982",
   "metadata": {},
   "source": [
    "Translation_model= model.fit(x_train,y_train.reshape(y_train.shape[0],y_train.shape[1],1),epochs=10,batch_size=110,validation_split=0.2)"
   ]
  },
  {
   "cell_type": "markdown",
   "id": "031d734d-1ad4-42ab-b9d8-0d12d8963fe4",
   "metadata": {},
   "source": [
    "model.save('NMTmodel')"
   ]
  },
  {
   "cell_type": "code",
   "execution_count": 28,
   "id": "e3fbf8ba-bbcd-41fc-8eb1-a8406c319dba",
   "metadata": {},
   "outputs": [],
   "source": [
    "from keras.models import load_model\n",
    "mymodel=load_model('NMTmodel')"
   ]
  },
  {
   "cell_type": "code",
   "execution_count": 35,
   "id": "c03b9ec3-f7a7-4858-8b48-11eaeddf4e3e",
   "metadata": {},
   "outputs": [],
   "source": [
    "sent=['yes']\n",
    "tokenizer1.fit_on_texts(sent)\n",
    "sent_vect=tokenizer1.texts_to_sequences(sent)\n",
    "sent_vect_seq= pad_sequences(sent_vect,maxlen=100,padding='post')"
   ]
  },
  {
   "cell_type": "code",
   "execution_count": 36,
   "id": "23e650da-eca8-48df-8175-1cabe8b8f5c8",
   "metadata": {},
   "outputs": [],
   "source": [
    "pred=mymodel.predict(sent_vect_seq.reshape(sent_vect_seq.shape[0],sent_vect_seq.shape[1]))"
   ]
  },
  {
   "cell_type": "code",
   "execution_count": 37,
   "id": "ec87f2b0-c23a-4850-a234-4416110d546c",
   "metadata": {},
   "outputs": [],
   "source": [
    "classes= np.argmax(pred,axis=1)"
   ]
  },
  {
   "cell_type": "code",
   "execution_count": 38,
   "id": "7706bf98-06db-4ecc-9ffe-490d9561d396",
   "metadata": {},
   "outputs": [],
   "source": [
    "def get_word(n,di):\n",
    "    for key,value in di.items():\n",
    "        if value==n:\n",
    "            return key\n",
    "    return None\n",
    "        "
   ]
  },
  {
   "cell_type": "code",
   "execution_count": null,
   "id": "f0363bd5-39ff-4963-9c6f-1e0c2667be60",
   "metadata": {},
   "outputs": [],
   "source": [
    "pred_text=[]\n",
    "for i in classes:\n",
    "    temp=[]\n",
    "    for j in range(len(i)):\n",
    "        t=get_word(i[j],word_index_hindi)\n",
    "        if j>0:\n",
    "            if t==get_word(i[j-1],word_index_hindi) or t==None:\n",
    "                temp.append('')\n",
    "            else:\n",
    "                temp.append(t)\n",
    "        else:\n",
    "            if t==None:\n",
    "                temp.append('')\n",
    "            else:\n",
    "                temp.append(t)\n",
    "    print(' '.join(temp))\n",
    "    pred_text.append(' '.join(temp))"
   ]
  },
  {
   "cell_type": "code",
   "execution_count": null,
   "id": "4b1f5898-de2c-41d8-811b-9b1927d6141c",
   "metadata": {},
   "outputs": [],
   "source": []
  },
  {
   "cell_type": "code",
   "execution_count": null,
   "id": "da318b61-c8fd-4e50-9456-bf7d46efaefc",
   "metadata": {},
   "outputs": [],
   "source": []
  }
 ],
 "metadata": {
  "kernelspec": {
   "display_name": "Python 3",
   "language": "python",
   "name": "python3"
  },
  "language_info": {
   "codemirror_mode": {
    "name": "ipython",
    "version": 3
   },
   "file_extension": ".py",
   "mimetype": "text/x-python",
   "name": "python",
   "nbconvert_exporter": "python",
   "pygments_lexer": "ipython3",
   "version": "3.8.8"
  }
 },
 "nbformat": 4,
 "nbformat_minor": 5
}
